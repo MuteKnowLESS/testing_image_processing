{
 "cells": [
  {
   "cell_type": "code",
   "execution_count": 15,
   "metadata": {},
   "outputs": [
    {
     "data": {
      "application/vnd.jupyter.widget-view+json": {
       "model_id": "22e2da1e717f43a0a9fe161ed2c0e080",
       "version_major": 2,
       "version_minor": 0
      },
      "text/plain": [
       "FloatSlider(value=1.0, description='a', max=10.0, min=-10.0)"
      ]
     },
     "metadata": {},
     "output_type": "display_data"
    },
    {
     "data": {
      "application/vnd.jupyter.widget-view+json": {
       "model_id": "bd08b434840843bd9662e41f274e3f13",
       "version_major": 2,
       "version_minor": 0
      },
      "text/plain": [
       "FloatSlider(value=0.0, description='b', max=10.0, min=-10.0)"
      ]
     },
     "metadata": {},
     "output_type": "display_data"
    },
    {
     "data": {
      "application/vnd.jupyter.widget-view+json": {
       "model_id": "5b84c56dde6644ab86a43ce83efaf9c8",
       "version_major": 2,
       "version_minor": 0
      },
      "text/plain": [
       "FloatSlider(value=0.0, description='c', max=10.0, min=-10.0)"
      ]
     },
     "metadata": {},
     "output_type": "display_data"
    },
    {
     "data": {
      "application/vnd.jupyter.widget-view+json": {
       "model_id": "97cf3c84cb154ddd8738f1016a638c36",
       "version_major": 2,
       "version_minor": 0
      },
      "text/plain": [
       "FloatSlider(value=1.0, description='d', max=10.0, min=-10.0)"
      ]
     },
     "metadata": {},
     "output_type": "display_data"
    },
    {
     "data": {
      "application/vnd.jupyter.widget-view+json": {
       "model_id": "91d2f91c6a6d4400874259f4807a8b74",
       "version_major": 2,
       "version_minor": 0
      },
      "text/plain": [
       "FloatSlider(value=0.0, description='e', max=10.0, min=-10.0)"
      ]
     },
     "metadata": {},
     "output_type": "display_data"
    },
    {
     "data": {
      "application/vnd.jupyter.widget-view+json": {
       "model_id": "df1e993d40ff48c3a6eba10951f5a37c",
       "version_major": 2,
       "version_minor": 0
      },
      "text/plain": [
       "FloatSlider(value=0.0, description='f', max=10.0, min=-10.0)"
      ]
     },
     "metadata": {},
     "output_type": "display_data"
    },
    {
     "ename": "TypeError",
     "evalue": "unsupported operand type(s) for *: 'FloatSlider' and 'int'",
     "output_type": "error",
     "traceback": [
      "\u001b[1;31m---------------------------------------------------------------------------\u001b[0m",
      "\u001b[1;31mTypeError\u001b[0m                                 Traceback (most recent call last)",
      "Cell \u001b[1;32mIn[15], line 88\u001b[0m\n\u001b[0;32m     80\u001b[0m transform_matrix \u001b[38;5;241m=\u001b[39m ([_a,_b,_c],\n\u001b[0;32m     81\u001b[0m                     [_d,_e,_f],\n\u001b[0;32m     82\u001b[0m                     [\u001b[38;5;241m0\u001b[39m,\u001b[38;5;241m0\u001b[39m,\u001b[38;5;241m1\u001b[39m])\n\u001b[0;32m     84\u001b[0m \u001b[38;5;66;03m# transform_matrix = ([1,0,0],\u001b[39;00m\n\u001b[0;32m     85\u001b[0m \u001b[38;5;66;03m#                     [0,1,0],\u001b[39;00m\n\u001b[0;32m     86\u001b[0m \u001b[38;5;66;03m#                     [0,0,1]) # the last line should remain as [0,0,1] for an affine transformation\u001b[39;00m\n\u001b[1;32m---> 88\u001b[0m transformed_points \u001b[38;5;241m=\u001b[39m [affine_point_transformation(transform_matrix, p)[:\u001b[38;5;241m2\u001b[39m] \u001b[38;5;28;01mfor\u001b[39;00m p \u001b[38;5;129;01min\u001b[39;00m points]\n\u001b[0;32m     90\u001b[0m \u001b[38;5;66;03m# Ensure points and transformed_points are 2D arrays with shape (N, 2)\u001b[39;00m\n\u001b[0;32m     91\u001b[0m points \u001b[38;5;241m=\u001b[39m points[:, :\u001b[38;5;241m2\u001b[39m]\n",
      "Cell \u001b[1;32mIn[15], line 88\u001b[0m, in \u001b[0;36m<listcomp>\u001b[1;34m(.0)\u001b[0m\n\u001b[0;32m     80\u001b[0m transform_matrix \u001b[38;5;241m=\u001b[39m ([_a,_b,_c],\n\u001b[0;32m     81\u001b[0m                     [_d,_e,_f],\n\u001b[0;32m     82\u001b[0m                     [\u001b[38;5;241m0\u001b[39m,\u001b[38;5;241m0\u001b[39m,\u001b[38;5;241m1\u001b[39m])\n\u001b[0;32m     84\u001b[0m \u001b[38;5;66;03m# transform_matrix = ([1,0,0],\u001b[39;00m\n\u001b[0;32m     85\u001b[0m \u001b[38;5;66;03m#                     [0,1,0],\u001b[39;00m\n\u001b[0;32m     86\u001b[0m \u001b[38;5;66;03m#                     [0,0,1]) # the last line should remain as [0,0,1] for an affine transformation\u001b[39;00m\n\u001b[1;32m---> 88\u001b[0m transformed_points \u001b[38;5;241m=\u001b[39m [\u001b[43maffine_point_transformation\u001b[49m\u001b[43m(\u001b[49m\u001b[43mtransform_matrix\u001b[49m\u001b[43m,\u001b[49m\u001b[43m \u001b[49m\u001b[43mp\u001b[49m\u001b[43m)\u001b[49m[:\u001b[38;5;241m2\u001b[39m] \u001b[38;5;28;01mfor\u001b[39;00m p \u001b[38;5;129;01min\u001b[39;00m points]\n\u001b[0;32m     90\u001b[0m \u001b[38;5;66;03m# Ensure points and transformed_points are 2D arrays with shape (N, 2)\u001b[39;00m\n\u001b[0;32m     91\u001b[0m points \u001b[38;5;241m=\u001b[39m points[:, :\u001b[38;5;241m2\u001b[39m]\n",
      "Cell \u001b[1;32mIn[15], line 44\u001b[0m, in \u001b[0;36maffine_point_transformation\u001b[1;34m(t_mat, p)\u001b[0m\n\u001b[0;32m     40\u001b[0m \u001b[38;5;28;01mdef\u001b[39;00m \u001b[38;5;21maffine_point_transformation\u001b[39m(t_mat, p):\n\u001b[0;32m     41\u001b[0m     \u001b[38;5;66;03m# t_mat is a 3x3 matrix\u001b[39;00m\n\u001b[0;32m     42\u001b[0m     \u001b[38;5;66;03m# p are the points and defined as x,y,z where z is usally just = 1\u001b[39;00m\n\u001b[1;32m---> 44\u001b[0m     \u001b[38;5;28;01mreturn\u001b[39;00m \u001b[43mnp\u001b[49m\u001b[38;5;241;43m.\u001b[39;49m\u001b[43mdot\u001b[49m\u001b[43m(\u001b[49m\u001b[43mt_mat\u001b[49m\u001b[43m,\u001b[49m\u001b[43m \u001b[49m\u001b[43mp\u001b[49m\u001b[43m)\u001b[49m\n",
      "\u001b[1;31mTypeError\u001b[0m: unsupported operand type(s) for *: 'FloatSlider' and 'int'"
     ]
    }
   ],
   "source": [
    "import numpy as np\n",
    "import ipywidgets as widgets\n",
    "from IPython.display import display\n",
    "import matplotlib.pyplot as plt\n",
    "\n",
    "def plot_transformation(points, transformed_points):\n",
    "    colors_1 = ['rx', 'gx', 'bx', 'yx', 'cx']\n",
    "    colors_2 = ['ro', 'go', 'bo', 'yo', 'co']\n",
    "\n",
    "    fig = plt.figure()\n",
    "\n",
    "    # this tripped me up for a while. make sure the aspect ratio is equal\n",
    "    plt.axis('equal')\n",
    "    plt.grid(True)\n",
    "\n",
    "    # Plot the original points\n",
    "    for i in range(len(points) - 1):\n",
    "        plt.plot(points[i][0], points[i][1], colors_1[i], label=f'p {i}')\n",
    "\n",
    "    \n",
    "\n",
    "    # Plot the transformed points\n",
    "    for i in range(len(transformed_points) - 1):\n",
    "        plt.plot(transformed_points[i][0], transformed_points[i][1], colors_2[i], label=f'p\\' {i}')\n",
    "\n",
    "    # Connect the original points to the transformed points\n",
    "    for i in range(len(points)):\n",
    "        plt.plot([points[i][0], transformed_points[i][0]], [points[i][1], transformed_points[i][1]], 'k--')\n",
    "\n",
    "    # Connect each point to form a polygon\n",
    "    original_polygon = plt.Polygon(points, closed=True, fill=None, edgecolor='r')\n",
    "    transformed_polygon = plt.Polygon(transformed_points, closed=True, fill=None, edgecolor='b')\n",
    "    plt.gca().add_patch(original_polygon)\n",
    "    plt.gca().add_patch(transformed_polygon)\n",
    "\n",
    "# Transform the points\n",
    "# transformed_points = [transform_point(p, transform_matrix) for p in points]\n",
    "\n",
    "\n",
    "def affine_point_transformation(t_mat, p):\n",
    "    # t_mat is a 3x3 matrix\n",
    "    # p are the points and defined as x,y,z where z is usally just = 1\n",
    "\n",
    "    return np.dot(t_mat, p)\n",
    "z = 1\n",
    "points = np.array([[0, 0, z], [1, 0, z], [1, 1, z], [0, 1, z], [0, 0, z]])\n",
    "\n",
    "# Define sliders for each transformation parameter\n",
    "_a = widgets.FloatSlider(value=1, min=-10, max=10, step=0.1, description='a')\n",
    "_b = widgets.FloatSlider(value=0, min=-10, max=10, step=0.1, description='b')\n",
    "_c = widgets.FloatSlider(value=0, min=-10, max=10, step=0.1, description='c')\n",
    "_d = widgets.FloatSlider(value=1, min=-10, max=10, step=0.1, description='d')\n",
    "_e = widgets.FloatSlider(value=0, min=-10, max=10, step=0.1, description='e')\n",
    "_f = widgets.FloatSlider(value=0, min=-10, max=10, step=0.1, description='f')\n",
    "\n",
    "# Display sliders\n",
    "display(_a, _b, _c, _d, _e, _f)\n",
    "\n",
    "def update_transformation_matrix(change):\n",
    "    global transform_matrix\n",
    "    transform_matrix = np.array([\n",
    "        [_a.value, _b.value, _c.value],\n",
    "        [_d.value, _e.value, _f.value],\n",
    "        [0, 0, 1]\n",
    "    ])\n",
    "    transformed_points = [affine_point_transformation(transform_matrix, np.append(p, z))[:2] for p in points]\n",
    "    transformed_points = np.array(transformed_points)\n",
    "    plot_transformation(points=points, transformed_points=transformed_points)\n",
    "    plt.show()\n",
    "\n",
    "# Attach the update function to slider changes\n",
    "_a.observe(update_transformation_matrix, names='value')\n",
    "_b.observe(update_transformation_matrix, names='value')\n",
    "_c.observe(update_transformation_matrix, names='value')\n",
    "_d.observe(update_transformation_matrix, names='value')\n",
    "_e.observe(update_transformation_matrix, names='value')\n",
    "_f.observe(update_transformation_matrix, names='value')\n",
    "\n",
    "\n",
    "transform_matrix = np.array([\n",
    "    [_a.value, _b.value, _c.value],\n",
    "    [_d.value, _e.value, _f.value],\n",
    "    [0, 0, 1]\n",
    "])\n",
    "\n",
    "# transform_matrix = ([1,0,0],\n",
    "#                     [0,1,0],\n",
    "#                     [0,0,1]) # the last line should remain as [0,0,1] for an affine transformation\n",
    "\n",
    "transformed_points = [affine_point_transformation(transform_matrix, p)[:2] for p in points]\n",
    "\n",
    "# Ensure points and transformed_points are 2D arrays with shape (N, 2)\n",
    "points = points[:, :2]\n",
    "transformed_points = np.array(transformed_points)\n",
    "\n",
    "plot_transformation(points=points, transformed_points=transformed_points)"
   ]
  }
 ],
 "metadata": {
  "kernelspec": {
   "display_name": "base",
   "language": "python",
   "name": "python3"
  },
  "language_info": {
   "codemirror_mode": {
    "name": "ipython",
    "version": 3
   },
   "file_extension": ".py",
   "mimetype": "text/x-python",
   "name": "python",
   "nbconvert_exporter": "python",
   "pygments_lexer": "ipython3",
   "version": "3.9.19"
  }
 },
 "nbformat": 4,
 "nbformat_minor": 2
}
