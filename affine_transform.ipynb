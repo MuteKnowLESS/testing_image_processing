{
 "cells": [
  {
   "cell_type": "code",
   "execution_count": null,
   "metadata": {},
   "outputs": [],
   "source": [
    "import numpy as np\n",
    "import ipywidgets as widgets\n",
    "from IPython.display import display\n",
    "import matplotlib.pyplot as plt\n",
    "\n",
    "def plot_transformation(points, transformed_points):\n",
    "    colors_1 = ['rx', 'gx', 'bx', 'yx', 'cx']\n",
    "    colors_2 = ['ro', 'go', 'bo', 'yo', 'co']\n",
    "\n",
    "    fig = plt.figure()\n",
    "\n",
    "    # this tripped me up for a while. make sure the aspect ratio is equal\n",
    "    plt.axis('equal')\n",
    "    plt.grid(True)\n",
    "\n",
    "    # Plot the original points\n",
    "    for i in range(len(points) - 1):\n",
    "        plt.plot(points[i][0], points[i][1], colors_1[i], label=f'p {i}')\n",
    "\n",
    "    \n",
    "\n",
    "    # Plot the transformed points\n",
    "    for i in range(len(transformed_points) - 1):\n",
    "        plt.plot(transformed_points[i][0], transformed_points[i][1], colors_2[i], label=f'p\\' {i}')\n",
    "\n",
    "    # Connect the original points to the transformed points\n",
    "    for i in range(len(points)):\n",
    "        plt.plot([points[i][0], transformed_points[i][0]], [points[i][1], transformed_points[i][1]], 'k--')\n",
    "\n",
    "    # Connect each point to form a polygon\n",
    "    original_polygon = plt.Polygon(points, closed=True, fill=None, edgecolor='r')\n",
    "    transformed_polygon = plt.Polygon(transformed_points, closed=True, fill=None, edgecolor='b')\n",
    "    plt.gca().add_patch(original_polygon)\n",
    "    plt.gca().add_patch(transformed_polygon)\n",
    "\n",
    "# Transform the points\n",
    "# transformed_points = [transform_point(p, transform_matrix) for p in points]\n",
    "\n",
    "\n",
    "def affine_point_transformation(t_mat, p):\n",
    "    # t_mat is a 3x3 matrix\n",
    "    # p are the points and defined as x,y,z where z is usally just = 1\n",
    "\n",
    "    return np.dot(t_mat, p)\n",
    "z = 1\n",
    "points = np.array([[0, 0, z], [1, 0, z], [1, 1, z], [0, 1, z], [0, 0, z]])\n",
    "\n",
    "# Define sliders for each transformation parameter\n",
    "_a = widgets.FloatSlider(value=1, min=-10, max=10, step=0.1, description='a')\n",
    "_b = widgets.FloatSlider(value=0, min=-10, max=10, step=0.1, description='b')\n",
    "_c = widgets.FloatSlider(value=0, min=-10, max=10, step=0.1, description='c')\n",
    "_d = widgets.FloatSlider(value=1, min=-10, max=10, step=0.1, description='d')\n",
    "_e = widgets.FloatSlider(value=0, min=-10, max=10, step=0.1, description='e')\n",
    "_f = widgets.FloatSlider(value=0, min=-10, max=10, step=0.1, description='f')\n",
    "\n",
    "# Display sliders\n",
    "display(_a, _b, _c, _d, _e, _f)\n",
    "\n",
    "def update_transformation_matrix(change):\n",
    "    global transform_matrix\n",
    "    transform_matrix = np.array([\n",
    "        [_a.value, _b.value, _c.value],\n",
    "        [_d.value, _e.value, _f.value],\n",
    "        [0, 0, 1]\n",
    "    ])\n",
    "    transformed_points = [affine_point_transformation(transform_matrix, np.append(p, z))[:2] for p in points]\n",
    "    transformed_points = np.array(transformed_points)\n",
    "    plot_transformation(points=points, transformed_points=transformed_points)\n",
    "    plt.show()\n",
    "\n",
    "# Attach the update function to slider changes\n",
    "_a.observe(update_transformation_matrix, names='value')\n",
    "_b.observe(update_transformation_matrix, names='value')\n",
    "_c.observe(update_transformation_matrix, names='value')\n",
    "_d.observe(update_transformation_matrix, names='value')\n",
    "_e.observe(update_transformation_matrix, names='value')\n",
    "_f.observe(update_transformation_matrix, names='value')\n",
    "\n",
    "\n",
    "transform_matrix = np.array([\n",
    "    [_a.value, _b.value, _c.value],\n",
    "    [_d.value, _e.value, _f.value],\n",
    "    [0, 0, 1]\n",
    "])\n",
    "\n",
    "# transform_matrix = ([1,0,0],\n",
    "#                     [0,1,0],\n",
    "#                     [0,0,1]) # the last line should remain as [0,0,1] for an affine transformation\n",
    "\n",
    "transformed_points = [affine_point_transformation(transform_matrix, p)[:2] for p in points]\n",
    "\n",
    "# Ensure points and transformed_points are 2D arrays with shape (N, 2)\n",
    "points = points[:, :2]\n",
    "transformed_points = np.array(transformed_points)\n",
    "\n",
    "plot_transformation(points=points, transformed_points=transformed_points)"
   ]
  },
  {
   "cell_type": "code",
   "execution_count": 79,
   "metadata": {},
   "outputs": [
    {
     "data": {
      "application/vnd.jupyter.widget-view+json": {
       "model_id": "00d0b096c82d48a8a502d7eff81c76f5",
       "version_major": 2,
       "version_minor": 0
      },
      "text/plain": [
       "FloatSlider(value=1.0, description='a', max=10.0, min=-10.0)"
      ]
     },
     "metadata": {},
     "output_type": "display_data"
    },
    {
     "data": {
      "application/vnd.jupyter.widget-view+json": {
       "model_id": "b5a3acdd773a4e11a34cf6cdc59e9c1e",
       "version_major": 2,
       "version_minor": 0
      },
      "text/plain": [
       "FloatSlider(value=0.0, description='b', max=10.0, min=-10.0)"
      ]
     },
     "metadata": {},
     "output_type": "display_data"
    },
    {
     "data": {
      "application/vnd.jupyter.widget-view+json": {
       "model_id": "970b520ea1914d7fab3d5b22c7f573eb",
       "version_major": 2,
       "version_minor": 0
      },
      "text/plain": [
       "FloatSlider(value=0.0, description='c', max=10.0, min=-10.0)"
      ]
     },
     "metadata": {},
     "output_type": "display_data"
    },
    {
     "data": {
      "application/vnd.jupyter.widget-view+json": {
       "model_id": "12f0824b99b6451f94361889cb983cb0",
       "version_major": 2,
       "version_minor": 0
      },
      "text/plain": [
       "FloatSlider(value=0.0, description='d', max=10.0, min=-10.0)"
      ]
     },
     "metadata": {},
     "output_type": "display_data"
    },
    {
     "data": {
      "application/vnd.jupyter.widget-view+json": {
       "model_id": "a7a1edd7ad014bef80401ae4bef76b7e",
       "version_major": 2,
       "version_minor": 0
      },
      "text/plain": [
       "FloatSlider(value=1.0, description='e', max=10.0, min=-10.0)"
      ]
     },
     "metadata": {},
     "output_type": "display_data"
    },
    {
     "data": {
      "application/vnd.jupyter.widget-view+json": {
       "model_id": "37149726117a4eda83f2276b0b1655af",
       "version_major": 2,
       "version_minor": 0
      },
      "text/plain": [
       "FloatSlider(value=0.0, description='f', max=10.0, min=-10.0)"
      ]
     },
     "metadata": {},
     "output_type": "display_data"
    },
    {
     "data": {
      "application/vnd.jupyter.widget-view+json": {
       "model_id": "a00f81965de54670804d22c32403efca",
       "version_major": 2,
       "version_minor": 0
      },
      "text/plain": [
       "Output()"
      ]
     },
     "metadata": {},
     "output_type": "display_data"
    }
   ],
   "source": [
    "# this is debugged by chatGPT\n",
    "\n",
    "import numpy as np\n",
    "import ipywidgets as widgets\n",
    "from IPython.display import display\n",
    "import matplotlib.pyplot as plt\n",
    "\n",
    "# Create an output widget to contain the plot\n",
    "output = widgets.Output()\n",
    "\n",
    "# Create figure and axis\n",
    "fig, ax = plt.subplots()\n",
    "ax.axis('equal')\n",
    "ax.grid(True)\n",
    "\n",
    "def plot_transformation(points, transformed_points):\n",
    "    # Clear previous plot\n",
    "    ax.clear()\n",
    "    ax.axis('equal')\n",
    "    ax.grid(True)\n",
    "\n",
    "    colors = ['r', 'g', 'b', 'y', 'c']\n",
    "\n",
    "    # Plot original and transformed points with their respective labels\n",
    "    for i, (p, tp) in enumerate(zip(points, transformed_points)):\n",
    "        ax.plot(p[0], p[1], colors[i % len(colors)] + 'x', label=f'p {i}')\n",
    "        ax.plot(tp[0], tp[1], colors[i % len(colors)] + 'o', label=f\"p' {i}\")\n",
    "        # Connect original points to transformed points\n",
    "        ax.plot([p[0], tp[0]], [p[1], tp[1]], 'k--')\n",
    "\n",
    "    # Draw polygons for the original and transformed points\n",
    "    original_polygon = plt.Polygon(points, closed=True, fill=None, edgecolor='r')\n",
    "    transformed_polygon = plt.Polygon(transformed_points, closed=True, fill=None, edgecolor='b')\n",
    "    ax.add_patch(original_polygon)\n",
    "    ax.add_patch(transformed_polygon)\n",
    "\n",
    "    # Display the legend and the plot\n",
    "    ax.legend()\n",
    "    plt.show()  # Explicitly show the plot\n",
    "\n",
    "# Affine transformation function\n",
    "def affine_point_transformation(t_mat, p):\n",
    "    # Ensure point p is a 3-element vector [x, y, 1] for affine transformation\n",
    "    return np.dot(t_mat, p)\n",
    "\n",
    "points = np.array([[0, 0], [1, 0], [1, 1], [0, 1], [0, 0]])\n",
    "\n",
    "# Define sliders for each transformation parameter\n",
    "_a = widgets.FloatSlider(value=1, min=-10, max=10, step=0.1, description='a')\n",
    "_b = widgets.FloatSlider(value=0, min=-10, max=10, step=0.1, description='b')\n",
    "_c = widgets.FloatSlider(value=0, min=-10, max=10, step=0.1, description='c')\n",
    "_d = widgets.FloatSlider(value=0, min=-10, max=10, step=0.1, description='d')\n",
    "_e = widgets.FloatSlider(value=1, min=-10, max=10, step=0.1, description='e')\n",
    "_f = widgets.FloatSlider(value=0, min=-10, max=10, step=0.1, description='f')\n",
    "\n",
    "# Display sliders\n",
    "display(_a, _b, _c, _d, _e, _f, output)\n",
    "\n",
    "def update_transformation_matrix(change):\n",
    "    transform_matrix = np.array([\n",
    "        [_a.value, _b.value, _c.value],\n",
    "        [_d.value, _e.value, _f.value],\n",
    "        [0, 0, 1]\n",
    "    ])\n",
    "    \n",
    "    # Transform the points, append [1] to each point for the affine transformation\n",
    "    transformed_points = [affine_point_transformation(transform_matrix, np.append(p, 1))[:2] for p in points]\n",
    "    transformed_points = np.array(transformed_points)\n",
    "    \n",
    "    # Plot the updated transformation in the output widget\n",
    "    with output:\n",
    "        output.clear_output(wait=True)  # Clear previous output\n",
    "        plot_transformation(points, transformed_points)\n",
    "\n",
    "# Attach the update function to slider changes\n",
    "for slider in [_a, _b, _c, _d, _e, _f]:\n",
    "    slider.observe(update_transformation_matrix, names='value')\n",
    "\n",
    "# Initial transformation\n",
    "update_transformation_matrix(None)  # Initial call to plot the initial state\n",
    "\n",
    "\n",
    "\n"
   ]
  },
  {
   "cell_type": "code",
   "execution_count": 82,
   "metadata": {},
   "outputs": [
    {
     "data": {
      "application/vnd.jupyter.widget-view+json": {
       "model_id": "ce31c2ad95c546c3a14a8ac381dbf074",
       "version_major": 2,
       "version_minor": 0
      },
      "text/plain": [
       "FloatSlider(value=1.0, description='a', max=10.0, min=-10.0)"
      ]
     },
     "metadata": {},
     "output_type": "display_data"
    },
    {
     "data": {
      "application/vnd.jupyter.widget-view+json": {
       "model_id": "7669cbe8e06743d495a66172f1850bd7",
       "version_major": 2,
       "version_minor": 0
      },
      "text/plain": [
       "FloatSlider(value=0.0, description='b', max=10.0, min=-10.0)"
      ]
     },
     "metadata": {},
     "output_type": "display_data"
    },
    {
     "data": {
      "application/vnd.jupyter.widget-view+json": {
       "model_id": "49f00ab719ed4e12bfec06ec47cd416f",
       "version_major": 2,
       "version_minor": 0
      },
      "text/plain": [
       "FloatSlider(value=0.0, description='c', max=10.0, min=-10.0)"
      ]
     },
     "metadata": {},
     "output_type": "display_data"
    },
    {
     "data": {
      "application/vnd.jupyter.widget-view+json": {
       "model_id": "a5457560386b4ab191b557771f1fdd9e",
       "version_major": 2,
       "version_minor": 0
      },
      "text/plain": [
       "FloatSlider(value=0.0, description='d', max=10.0, min=-10.0)"
      ]
     },
     "metadata": {},
     "output_type": "display_data"
    },
    {
     "data": {
      "application/vnd.jupyter.widget-view+json": {
       "model_id": "30a6b1a0815a493c99b71376815996f8",
       "version_major": 2,
       "version_minor": 0
      },
      "text/plain": [
       "FloatSlider(value=1.0, description='e', max=10.0, min=-10.0)"
      ]
     },
     "metadata": {},
     "output_type": "display_data"
    },
    {
     "data": {
      "application/vnd.jupyter.widget-view+json": {
       "model_id": "1320eabf456240f6a66e6d7cb1ed7f58",
       "version_major": 2,
       "version_minor": 0
      },
      "text/plain": [
       "FloatSlider(value=0.0, description='f', max=10.0, min=-10.0)"
      ]
     },
     "metadata": {},
     "output_type": "display_data"
    },
    {
     "data": {
      "application/vnd.jupyter.widget-view+json": {
       "model_id": "4c6e1e688734445392a2501a98756698",
       "version_major": 2,
       "version_minor": 0
      },
      "text/plain": [
       "Output()"
      ]
     },
     "metadata": {},
     "output_type": "display_data"
    }
   ],
   "source": [
    "# this is the above code refactored:\n",
    "# code debugged by chat gpt, sort of works\n",
    "\n",
    "import numpy as np\n",
    "import ipywidgets as widgets\n",
    "from IPython.display import display, clear_output\n",
    "import matplotlib.pyplot as plt\n",
    "\n",
    "# Create an output widget to contain the plot\n",
    "output = widgets.Output()\n",
    "\n",
    "\n",
    "\n",
    "def plot_transformation(points, transformed_points):\n",
    "    colors_1 = ['rx', 'gx', 'bx', 'yx', 'cx']\n",
    "    colors_2 = ['ro', 'go', 'bo', 'yo', 'co']\n",
    "\n",
    "    with output:\n",
    "        # Clear the current plot\n",
    "        clear_output(wait=True)\n",
    "        \n",
    "        plt.figure()  # Create a new figure for every plot update\n",
    "\n",
    "        # Ensure the aspect ratio is equal\n",
    "        plt.axis('equal')\n",
    "        plt.grid(True)\n",
    "\n",
    "        # Plot the original points\n",
    "        for i in range(len(points) - 1):\n",
    "            plt.plot(points[i][0], points[i][1], colors_1[i], label=f'p {i}')\n",
    "\n",
    "        # Plot the transformed points\n",
    "        for i in range(len(transformed_points) - 1):\n",
    "            plt.plot(transformed_points[i][0], transformed_points[i][1], colors_2[i], label=f'p\\' {i}')\n",
    "\n",
    "        # Connect the original points to the transformed points\n",
    "        for i in range(len(points)):\n",
    "            plt.plot([points[i][0], transformed_points[i][0]], [points[i][1], transformed_points[i][1]], 'k--')\n",
    "\n",
    "        # Connect each point to form a polygon\n",
    "        original_polygon = plt.Polygon(points, closed=True, fill=None, edgecolor='r')\n",
    "        transformed_polygon = plt.Polygon(transformed_points, closed=True, fill=None, edgecolor='b')\n",
    "        plt.gca().add_patch(original_polygon)\n",
    "        plt.gca().add_patch(transformed_polygon)\n",
    "\n",
    "        # Display the legend\n",
    "        plt.legend()\n",
    "        plt.show()\n",
    "\n",
    "# Affine transformation function\n",
    "def affine_point_transformation(t_mat, p):\n",
    "    # Ensure point p is a 3-element vector [x, y, 1] for affine transformation\n",
    "    return np.dot(t_mat, p)\n",
    "\n",
    "z = 1\n",
    "points = np.array([[0, 0], [1, 0], [1, 1], [0, 1], [0, 0]])\n",
    "\n",
    "# Define sliders for each transformation parameter\n",
    "_a = widgets.FloatSlider(value=1, min=-10, max=10, step=0.1, description='a')\n",
    "_b = widgets.FloatSlider(value=0, min=-10, max=10, step=0.1, description='b')\n",
    "_c = widgets.FloatSlider(value=0, min=-10, max=10, step=0.1, description='c')\n",
    "_d = widgets.FloatSlider(value=0, min=-10, max=10, step=0.1, description='d')\n",
    "_e = widgets.FloatSlider(value=1, min=-10, max=10, step=0.1, description='e')\n",
    "_f = widgets.FloatSlider(value=0, min=-10, max=10, step=0.1, description='f')\n",
    "\n",
    "# Display sliders\n",
    "display(_a, _b, _c, _d, _e, _f, output)  # Include the output widget in the display\n",
    "\n",
    "def update_transformation_matrix(change):\n",
    "    transform_matrix = np.array([\n",
    "        [_a.value, _b.value, _c.value],\n",
    "        [_d.value, _e.value, _f.value],\n",
    "        [0, 0, 1]\n",
    "    ])\n",
    "    \n",
    "    # Transform the points, append [1] to each point for the affine transformation\n",
    "    transformed_points = [affine_point_transformation(transform_matrix, np.append(p, 1))[:2] for p in points]\n",
    "    transformed_points = np.array(transformed_points)\n",
    "    \n",
    "    # Plot the updated transformation\n",
    "    plot_transformation(points=points, transformed_points=transformed_points)\n",
    "\n",
    "# Attach the update function to slider changes\n",
    "_a.observe(update_transformation_matrix, names='value')\n",
    "_b.observe(update_transformation_matrix, names='value')\n",
    "_c.observe(update_transformation_matrix, names='value')\n",
    "_d.observe(update_transformation_matrix, names='value')\n",
    "_e.observe(update_transformation_matrix, names='value')\n",
    "_f.observe(update_transformation_matrix, names='value')\n",
    "\n",
    "# Initial transformation\n",
    "transform_matrix = np.array([\n",
    "    [_a.value, _b.value, _c.value],\n",
    "    [_d.value, _e.value, _f.value],\n",
    "    [0, 0, 1]\n",
    "])\n",
    "\n",
    "transformed_points = [affine_point_transformation(transform_matrix, np.append(p, 1))[:2] for p in points]\n",
    "transformed_points = np.array(transformed_points)\n",
    "\n",
    "# Plot the initial transformation\n",
    "plot_transformation(points=points, transformed_points=transformed_points)\n",
    "\n",
    "\n",
    "\n"
   ]
  },
  {
   "cell_type": "code",
   "execution_count": 116,
   "metadata": {},
   "outputs": [
    {
     "data": {
      "application/vnd.jupyter.widget-view+json": {
       "model_id": "8e9100196da34bdd8e67dbf24801582a",
       "version_major": 2,
       "version_minor": 0
      },
      "text/plain": [
       "interactive(children=(FloatSlider(value=1.0, description='a', max=10.0, min=-10.0), FloatSlider(value=0.0, des…"
      ]
     },
     "metadata": {},
     "output_type": "display_data"
    },
    {
     "data": {
      "text/plain": [
       "<function __main__.update(a_: float, b_: float, c_: float, d_: float, e_: float, f_: float) -> None>"
      ]
     },
     "execution_count": 116,
     "metadata": {},
     "output_type": "execute_result"
    }
   ],
   "source": [
    "# debugged with chat gpt\n",
    "\n",
    "from ipywidgets import *\n",
    "import numpy as np\n",
    "import matplotlib.pyplot as plt\n",
    "#%matplotlib  widget\n",
    "#%matplotlib\n",
    "\n",
    "COLORS = ['r', 'g', 'b', 'y', 'c']  # Colors for each point\n",
    "Z = 1\n",
    "\n",
    "# fig, ax = plt.subplots()\n",
    "# ax.axis('equal')\n",
    "# ax.grid(True)\n",
    "\n",
    "# Original points of the square\n",
    "original_points = np.array([[0, 0], [1, 0], [1, 1], [0, 1], [0, 0]])\n",
    "\n",
    "# Identity matrix for initial transformation\n",
    "transform_matrix_i = np.array([[1, 0, 0], [0, 1, 0], [0, 0, 1]])\n",
    "\n",
    "plt.ion\n",
    "\n",
    "def cart_affine_point_transformation(t_mat: np.array, p: np.array) -> np.array:\n",
    "    '''returns transformed point in cartesian form: (x,y)'''\n",
    "    transformed_point = np.dot(t_mat, p)\n",
    "    return transformed_point[:2] / transformed_point[2]\n",
    "\n",
    "def homo_affine_point_transformation(t_mat: np.array, p: np.array) -> np.array:\n",
    "    '''returns transformed point in homogenous form: (x,y,z)'''\n",
    "    return np.dot(t_mat, p)\n",
    "    \n",
    "\n",
    "# # Initial plot setup\n",
    "# points = original_points\n",
    "# transformed_points = np.array([affine_point_transformation(transform_matrix_i, np.append(p, Z)) for p in points])\n",
    "\n",
    "# # Create scatter plot for transformed points\n",
    "# scat = ax.scatter(transformed_points[:, 0], transformed_points[:, 1], color='b')\n",
    "\n",
    "# # Plot original points as red 'x'\n",
    "# ax.plot(points[:, 0], points[:, 1], 'rx', label='Original Points')\n",
    "\n",
    "# # Lines connecting original and transformed points\n",
    "# lines = [ax.plot([points[i, 0], transformed_points[i, 0]], \n",
    "#                  [points[i, 1], transformed_points[i, 1]], 'k--')[0] for i in range(len(points))]\n",
    "\n",
    "# # Create polygons for original and transformed shapes\n",
    "# original_polygon = plt.Polygon(points, closed=True, fill=None, edgecolor='r')\n",
    "# transformed_polygon = plt.Polygon(transformed_points, closed=True, fill=None, edgecolor='b')\n",
    "# ax.add_patch(original_polygon)\n",
    "# transformed_patch = ax.add_patch(transformed_polygon)\n",
    "\n",
    "# Update function for updating the transformation and redrawing\n",
    "def update(a_: float, b_: float, c_: float, d_: float, e_: float, f_: float) -> None:\n",
    "    # Create new transformation matrix\n",
    "    new_transform_matrix = np.array([\n",
    "        [a_, b_, c_],\n",
    "        [d_, e_, f_],\n",
    "        [0, 0, 1]\n",
    "    ])\n",
    "    figu, axe = plt.subplots()\n",
    "    axe.axis('equal')\n",
    "    axe.grid(True)\n",
    "    axe.set_ylim(-3,4)\n",
    "    axe.set_xlim(-3,4)\n",
    "    # figu = plt.figure\n",
    "    # axe = fig.add_subplot(111) # can add projection = '3d'\n",
    "    # Compute transformed points\n",
    "    #points_prime = np.array([affine_point_transformation(new_transform_matrix, np.append(p, Z)) for p in points])\n",
    "    points = original_points\n",
    "    transformed_points = np.array([affine_point_transformation(new_transform_matrix, np.append(p, Z)) for p in points])\n",
    "\n",
    "    # Create scatter plot for transformed points\n",
    "    axe.scatter(transformed_points[:, 0], transformed_points[:, 1], color='b')\n",
    "\n",
    "    # Plot original points as red 'x'\n",
    "    axe.plot(points[:, 0], points[:, 1], 'rx', label='Original Points')\n",
    "\n",
    "    # Lines connecting original and transformed points\n",
    "    lines = [axe.plot([points[i, 0], transformed_points[i, 0]], \n",
    "                    [points[i, 1], transformed_points[i, 1]], 'k--')[0] for i in range(len(points))]\n",
    "\n",
    "    # Create polygons for original and transformed shapes\n",
    "    original_polygon = plt.Polygon(points, closed=True, fill=None, edgecolor='r')\n",
    "    transformed_polygon = plt.Polygon(transformed_points, closed=True, fill=None, edgecolor='b')\n",
    "    axe.add_patch(original_polygon)\n",
    "    transformed_patch = axe.add_patch(transformed_polygon)\n",
    "    fig.show\n",
    "\n",
    "# Create interactive sliders\n",
    "a_ = FloatSlider(value=1, min=-10, max=10, step=0.1, description='a')\n",
    "b_ = FloatSlider(value=0, min=-10, max=10, step=0.1, description='b')\n",
    "c_ = FloatSlider(value=0, min=-10, max=10, step=0.1, description='c')\n",
    "d_ = FloatSlider(value=0, min=-10, max=10, step=0.1, description='d')\n",
    "e_ = FloatSlider(value=1, min=-10, max=10, step=0.1, description='e')\n",
    "f_ = FloatSlider(value=0, min=-10, max=10, step=0.1, description='f')\n",
    "\n",
    "# Create an interactive widget to update the transformation\n",
    "interact(update, a_=a_, b_=b_, c_=c_, d_=d_, e_=e_, f_=f_)\n",
    "\n"
   ]
  }
 ],
 "metadata": {
  "kernelspec": {
   "display_name": "base",
   "language": "python",
   "name": "python3"
  },
  "language_info": {
   "codemirror_mode": {
    "name": "ipython",
    "version": 3
   },
   "file_extension": ".py",
   "mimetype": "text/x-python",
   "name": "python",
   "nbconvert_exporter": "python",
   "pygments_lexer": "ipython3",
   "version": "3.9.19"
  }
 },
 "nbformat": 4,
 "nbformat_minor": 2
}
